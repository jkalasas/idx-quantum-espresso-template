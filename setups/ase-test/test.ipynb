{
 "cells": [
  {
   "cell_type": "code",
   "execution_count": 3,
   "metadata": {},
   "outputs": [
    {
     "name": "stdout",
     "output_type": "stream",
     "text": [
      "       Step     Time          Energy          fmax\n",
      "LBFGS:    0 01:56:10    -1750.254354        0.000000\n",
      "6.0\n"
     ]
    }
   ],
   "source": [
    "from ase.build import bulk\n",
    "from ase.calculators.espresso import Espresso, EspressoProfile\n",
    "from ase.optimize import LBFGS\n",
    "\n",
    "PSEUDO_DIR = \"../../pseudos\"\n",
    "\n",
    "rocksalt = bulk('NaCl', crystalstructure='rocksalt', a=6.0)\n",
    "\n",
    "pseudopotentials = {'Na': 'na_pbe_v1.5.uspp.F.UPF', 'Cl': 'cl_pbe_v1.4.uspp.F.UPF'}\n",
    "\n",
    "input_data = {\n",
    "    'control': {\n",
    "        'calculation': 'relax',\n",
    "        'forc_conv_thr': 0.005\n",
    "    },\n",
    "    'system': { 'ecutwfc': 60 },\n",
    "}\n",
    "\n",
    "profile = EspressoProfile(\n",
    "    command='pw.x', pseudo_dir=PSEUDO_DIR\n",
    ")\n",
    "\n",
    "calc = Espresso(profile=profile, pseudopotentials=pseudopotentials, input_data=input_data)\n",
    "\n",
    "rocksalt.calc = calc\n",
    "\n",
    "opt = LBFGS(rocksalt)\n",
    "\n",
    "opt.run(fmax=0.005) \n",
    "\n",
    "# Print lattice constant...\n",
    "print((8 * rocksalt.get_volume() / len(rocksalt)) ** (1.0 / 3.0))"
   ]
  },
  {
   "cell_type": "code",
   "execution_count": null,
   "metadata": {},
   "outputs": [],
   "source": []
  }
 ],
 "metadata": {
  "kernelspec": {
   "display_name": "Python 3",
   "language": "python",
   "name": "python3"
  },
  "language_info": {
   "codemirror_mode": {
    "name": "ipython",
    "version": 3
   },
   "file_extension": ".py",
   "mimetype": "text/x-python",
   "name": "python",
   "nbconvert_exporter": "python",
   "pygments_lexer": "ipython3",
   "version": "3.12.8"
  }
 },
 "nbformat": 4,
 "nbformat_minor": 2
}
